{
  "cells": [
    {
      "attachments": {},
      "cell_type": "markdown",
      "metadata": {},
      "source": [
        "LOADING LIBRARIES"
      ]
    },
    {
      "cell_type": "code",
      "execution_count": 1,
      "metadata": {
        "id": "wIPu32tJsras"
      },
      "outputs": [],
      "source": [
        "import pandas as pd \n",
        "import numpy as np \n",
        "import seaborn as sns \n",
        "import matplotlib.pyplot as plt\n",
        "%matplotlib inline \n",
        "from sklearn.tree import DecisionTreeClassifier\n",
        "from sklearn.ensemble import RandomForestClassifier\n",
        "from sklearn.svm import SVC\n",
        "from sklearn.linear_model import LogisticRegression \n",
        "from sklearn.naive_bayes import MultinomialNB \n",
        "from sklearn.model_selection import train_test_split \n",
        "from sklearn.metrics import classification_report \n",
        "from sklearn.metrics import confusion_matrix \n",
        "from nltk.tokenize import RegexpTokenizer\n",
        "from nltk.stem.snowball import SnowballStemmer \n",
        "from sklearn.feature_extraction.text import CountVectorizer \n",
        "import warnings \n",
        "warnings.filterwarnings('ignore')\n",
        "from sklearn.metrics import accuracy_score\n",
        "from sklearn import metrics\n",
        "from sklearn.base import BaseEstimator, ClassifierMixin\n",
        "from sklearn.utils.validation import check_X_y, check_array, check_is_fitted"
      ]
    },
    {
      "cell_type": "markdown",
      "metadata": {
        "id": "5waAoUUStiQM"
      },
      "source": [
        "Loading the dataset"
      ]
    },
    {
      "cell_type": "code",
      "execution_count": 2,
      "metadata": {
        "id": "74Fp7HTmtOUD"
      },
      "outputs": [],
      "source": [
        "phish_data = pd.read_csv('phishing_site_urls.csv')"
      ]
    },
    {
      "cell_type": "code",
      "execution_count": 3,
      "metadata": {},
      "outputs": [],
      "source": [
        "sample_size = int(len(phish_data) * 0.1)  # Sample 20% of the dataset\n",
        "# Randomly sample the dataset\n",
        "sampled_data = phish_data.sample(n=sample_size)"
      ]
    },
    {
      "cell_type": "code",
      "execution_count": 4,
      "metadata": {},
      "outputs": [],
      "source": [
        "sampled_data.shape\n",
        "phish_data=sampled_data\n",
        "\n"
      ]
    },
    {
      "cell_type": "code",
      "execution_count": 5,
      "metadata": {},
      "outputs": [
        {
          "data": {
            "text/plain": [
              "(54934, 2)"
            ]
          },
          "execution_count": 5,
          "metadata": {},
          "output_type": "execute_result"
        }
      ],
      "source": [
        "phish_data.shape\n"
      ]
    },
    {
      "cell_type": "code",
      "execution_count": 6,
      "metadata": {
        "colab": {
          "base_uri": "https://localhost:8080/",
          "height": 206
        },
        "id": "te3LCZBLuIJ1",
        "outputId": "fc6b4f8a-3ac4-4ada-9a2b-6dcaae02ae0b"
      },
      "outputs": [
        {
          "data": {
            "text/html": [
              "<div>\n",
              "<style scoped>\n",
              "    .dataframe tbody tr th:only-of-type {\n",
              "        vertical-align: middle;\n",
              "    }\n",
              "\n",
              "    .dataframe tbody tr th {\n",
              "        vertical-align: top;\n",
              "    }\n",
              "\n",
              "    .dataframe thead th {\n",
              "        text-align: right;\n",
              "    }\n",
              "</style>\n",
              "<table border=\"1\" class=\"dataframe\">\n",
              "  <thead>\n",
              "    <tr style=\"text-align: right;\">\n",
              "      <th></th>\n",
              "      <th>URL</th>\n",
              "      <th>Label</th>\n",
              "    </tr>\n",
              "  </thead>\n",
              "  <tbody>\n",
              "    <tr>\n",
              "      <th>394243</th>\n",
              "      <td>museumstuff.com/family-history/names/Cadena.php</td>\n",
              "      <td>good</td>\n",
              "    </tr>\n",
              "    <tr>\n",
              "      <th>455884</th>\n",
              "      <td>urbandictionary.com/define.php?term=ROI</td>\n",
              "      <td>good</td>\n",
              "    </tr>\n",
              "    <tr>\n",
              "      <th>148515</th>\n",
              "      <td>beemp3.com/index.php?q=beyonce+single+ladies+p...</td>\n",
              "      <td>good</td>\n",
              "    </tr>\n",
              "    <tr>\n",
              "      <th>40070</th>\n",
              "      <td>ouled-kenitra.com/webscr.php</td>\n",
              "      <td>bad</td>\n",
              "    </tr>\n",
              "    <tr>\n",
              "      <th>316626</th>\n",
              "      <td>dormie2.com/bishop/genealogy/GEDCOM/D0002/G000...</td>\n",
              "      <td>good</td>\n",
              "    </tr>\n",
              "  </tbody>\n",
              "</table>\n",
              "</div>"
            ],
            "text/plain": [
              "                                                      URL Label\n",
              "394243    museumstuff.com/family-history/names/Cadena.php  good\n",
              "455884            urbandictionary.com/define.php?term=ROI  good\n",
              "148515  beemp3.com/index.php?q=beyonce+single+ladies+p...  good\n",
              "40070                        ouled-kenitra.com/webscr.php   bad\n",
              "316626  dormie2.com/bishop/genealogy/GEDCOM/D0002/G000...  good"
            ]
          },
          "execution_count": 6,
          "metadata": {},
          "output_type": "execute_result"
        }
      ],
      "source": [
        "phish_data.head()"
      ]
    },
    {
      "attachments": {},
      "cell_type": "markdown",
      "metadata": {},
      "source": [
        "LABEL Encoding"
      ]
    },
    {
      "cell_type": "code",
      "execution_count": 7,
      "metadata": {},
      "outputs": [],
      "source": [
        "from sklearn.preprocessing import LabelEncoder\n",
        "\n",
        "# Initialize the encoder\n",
        "encoder = LabelEncoder()\n",
        "\n",
        "# Fit the encoder on the \"Label\" column\n",
        "encoder.fit(phish_data['Label'])\n",
        "\n",
        "# Transform the \"Label\" column to its encoded representation\n",
        "phish_data['Label'] = encoder.transform(phish_data['Label'])\n"
      ]
    },
    {
      "cell_type": "code",
      "execution_count": 8,
      "metadata": {},
      "outputs": [
        {
          "data": {
            "text/plain": [
              "<bound method NDFrame.head of                                                       URL  Label\n",
              "394243    museumstuff.com/family-history/names/Cadena.php      1\n",
              "455884            urbandictionary.com/define.php?term=ROI      1\n",
              "148515  beemp3.com/index.php?q=beyonce+single+ladies+p...      1\n",
              "40070                        ouled-kenitra.com/webscr.php      0\n",
              "316626  dormie2.com/bishop/genealogy/GEDCOM/D0002/G000...      1\n",
              "...                                                   ...    ...\n",
              "544572                           datasnood.com/upqgz5hsxc      0\n",
              "522584                           176.106.122.31/muk22.png      0\n",
              "2177    u298261.sendgrid.org/wf/click?upn=1DvF8kENxeKn...      0\n",
              "420674  realestatevine.ca/property/119874-rue-rancourt...      1\n",
              "398166  mysanantonio.com/sports/college_sports/big_12/...      1\n",
              "\n",
              "[54934 rows x 2 columns]>"
            ]
          },
          "execution_count": 8,
          "metadata": {},
          "output_type": "execute_result"
        }
      ],
      "source": [
        "phish_data.head"
      ]
    },
    {
      "cell_type": "code",
      "execution_count": 9,
      "metadata": {
        "colab": {
          "base_uri": "https://localhost:8080/"
        },
        "id": "KawglGd-uMms",
        "outputId": "bf4526df-8512-40e1-e0be-7a826c21e64b"
      },
      "outputs": [
        {
          "name": "stdout",
          "output_type": "stream",
          "text": [
            "<class 'pandas.core.frame.DataFrame'>\n",
            "Int64Index: 54934 entries, 367834 to 20691\n",
            "Data columns (total 2 columns):\n",
            " #   Column  Non-Null Count  Dtype \n",
            "---  ------  --------------  ----- \n",
            " 0   URL     54934 non-null  object\n",
            " 1   Label   54934 non-null  int32 \n",
            "dtypes: int32(1), object(1)\n",
            "memory usage: 1.0+ MB\n"
          ]
        }
      ],
      "source": [
        "phish_data.info()"
      ]
    },
    {
      "cell_type": "code",
      "execution_count": 10,
      "metadata": {
        "colab": {
          "base_uri": "https://localhost:8080/"
        },
        "id": "j6wnYjkBuNEM",
        "outputId": "8874a6c6-f80b-48b4-81cc-8f87ca8a582b"
      },
      "outputs": [
        {
          "data": {
            "text/plain": [
              "URL      0\n",
              "Label    0\n",
              "dtype: int64"
            ]
          },
          "execution_count": 10,
          "metadata": {},
          "output_type": "execute_result"
        }
      ],
      "source": [
        "phish_data.isnull().sum()"
      ]
    },
    {
      "cell_type": "markdown",
      "metadata": {
        "id": "-XU1iwFTvPnl"
      },
      "source": [
        "Preprocessing\n"
      ]
    },
    {
      "cell_type": "code",
      "execution_count": 9,
      "metadata": {
        "id": "VqtphGx-vOu1"
      },
      "outputs": [],
      "source": [
        "tokenizer = RegexpTokenizer(r'[A-Za-z]+')"
      ]
    },
    {
      "cell_type": "code",
      "execution_count": 10,
      "metadata": {
        "colab": {
          "base_uri": "https://localhost:8080/"
        },
        "id": "en4rirDIuObd",
        "outputId": "65354044-2908-4ddb-8b08-40940080599b"
      },
      "outputs": [
        {
          "name": "stdout",
          "output_type": "stream",
          "text": [
            "Getting words tokenized ...\n"
          ]
        }
      ],
      "source": [
        "print('Getting words tokenized ...')\n",
        "phish_data['text_tokenized'] = phish_data.URL.map(lambda f: tokenizer.tokenize(f)) # doing with all rows\n"
      ]
    },
    {
      "cell_type": "code",
      "execution_count": 11,
      "metadata": {
        "colab": {
          "base_uri": "https://localhost:8080/",
          "height": 250
        },
        "id": "3Ldb-OeNuOYV",
        "outputId": "ab21faed-6be9-4caf-f3fd-00838045c326"
      },
      "outputs": [
        {
          "data": {
            "text/html": [
              "<div>\n",
              "<style scoped>\n",
              "    .dataframe tbody tr th:only-of-type {\n",
              "        vertical-align: middle;\n",
              "    }\n",
              "\n",
              "    .dataframe tbody tr th {\n",
              "        vertical-align: top;\n",
              "    }\n",
              "\n",
              "    .dataframe thead th {\n",
              "        text-align: right;\n",
              "    }\n",
              "</style>\n",
              "<table border=\"1\" class=\"dataframe\">\n",
              "  <thead>\n",
              "    <tr style=\"text-align: right;\">\n",
              "      <th></th>\n",
              "      <th>URL</th>\n",
              "      <th>Label</th>\n",
              "      <th>text_tokenized</th>\n",
              "    </tr>\n",
              "  </thead>\n",
              "  <tbody>\n",
              "    <tr>\n",
              "      <th>394243</th>\n",
              "      <td>museumstuff.com/family-history/names/Cadena.php</td>\n",
              "      <td>1</td>\n",
              "      <td>[museumstuff, com, family, history, names, Cad...</td>\n",
              "    </tr>\n",
              "    <tr>\n",
              "      <th>455884</th>\n",
              "      <td>urbandictionary.com/define.php?term=ROI</td>\n",
              "      <td>1</td>\n",
              "      <td>[urbandictionary, com, define, php, term, ROI]</td>\n",
              "    </tr>\n",
              "    <tr>\n",
              "      <th>148515</th>\n",
              "      <td>beemp3.com/index.php?q=beyonce+single+ladies+p...</td>\n",
              "      <td>1</td>\n",
              "      <td>[beemp, com, index, php, q, beyonce, single, l...</td>\n",
              "    </tr>\n",
              "    <tr>\n",
              "      <th>40070</th>\n",
              "      <td>ouled-kenitra.com/webscr.php</td>\n",
              "      <td>0</td>\n",
              "      <td>[ouled, kenitra, com, webscr, php]</td>\n",
              "    </tr>\n",
              "    <tr>\n",
              "      <th>316626</th>\n",
              "      <td>dormie2.com/bishop/genealogy/GEDCOM/D0002/G000...</td>\n",
              "      <td>1</td>\n",
              "      <td>[dormie, com, bishop, genealogy, GEDCOM, D, G,...</td>\n",
              "    </tr>\n",
              "  </tbody>\n",
              "</table>\n",
              "</div>"
            ],
            "text/plain": [
              "                                                      URL  Label  \\\n",
              "394243    museumstuff.com/family-history/names/Cadena.php      1   \n",
              "455884            urbandictionary.com/define.php?term=ROI      1   \n",
              "148515  beemp3.com/index.php?q=beyonce+single+ladies+p...      1   \n",
              "40070                        ouled-kenitra.com/webscr.php      0   \n",
              "316626  dormie2.com/bishop/genealogy/GEDCOM/D0002/G000...      1   \n",
              "\n",
              "                                           text_tokenized  \n",
              "394243  [museumstuff, com, family, history, names, Cad...  \n",
              "455884     [urbandictionary, com, define, php, term, ROI]  \n",
              "148515  [beemp, com, index, php, q, beyonce, single, l...  \n",
              "40070                  [ouled, kenitra, com, webscr, php]  \n",
              "316626  [dormie, com, bishop, genealogy, GEDCOM, D, G,...  "
            ]
          },
          "execution_count": 11,
          "metadata": {},
          "output_type": "execute_result"
        }
      ],
      "source": [
        "phish_data.head()"
      ]
    },
    {
      "cell_type": "markdown",
      "metadata": {
        "id": "B0emcjVFwINs"
      },
      "source": [
        "Stemming"
      ]
    },
    {
      "cell_type": "code",
      "execution_count": 12,
      "metadata": {
        "id": "a87k3sJGuOUs"
      },
      "outputs": [],
      "source": [
        "stemmer = SnowballStemmer(\"english\") # choose a language"
      ]
    },
    {
      "cell_type": "code",
      "execution_count": 13,
      "metadata": {
        "colab": {
          "base_uri": "https://localhost:8080/"
        },
        "id": "HAuT_PmVuOLN",
        "outputId": "7d2aea5a-8e78-41da-cdef-3665aecdf572"
      },
      "outputs": [
        {
          "name": "stdout",
          "output_type": "stream",
          "text": [
            "Getting words stemmed ...\n"
          ]
        }
      ],
      "source": [
        "print('Getting words stemmed ...')\n",
        "phish_data['text_stemmed'] = phish_data['text_tokenized'].map(lambda l: [stemmer.stem(word) for word in l])"
      ]
    },
    {
      "cell_type": "code",
      "execution_count": 16,
      "metadata": {
        "colab": {
          "base_uri": "https://localhost:8080/",
          "height": 389
        },
        "id": "6R1aRI01wz1Q",
        "outputId": "5173cedc-eeac-46c0-c328-7d66c957eb93"
      },
      "outputs": [
        {
          "data": {
            "text/html": [
              "<div>\n",
              "<style scoped>\n",
              "    .dataframe tbody tr th:only-of-type {\n",
              "        vertical-align: middle;\n",
              "    }\n",
              "\n",
              "    .dataframe tbody tr th {\n",
              "        vertical-align: top;\n",
              "    }\n",
              "\n",
              "    .dataframe thead th {\n",
              "        text-align: right;\n",
              "    }\n",
              "</style>\n",
              "<table border=\"1\" class=\"dataframe\">\n",
              "  <thead>\n",
              "    <tr style=\"text-align: right;\">\n",
              "      <th></th>\n",
              "      <th>URL</th>\n",
              "      <th>Label</th>\n",
              "      <th>text_tokenized</th>\n",
              "      <th>text_stemmed</th>\n",
              "    </tr>\n",
              "  </thead>\n",
              "  <tbody>\n",
              "    <tr>\n",
              "      <th>367834</th>\n",
              "      <td>kcmo.org/CKCMO/Depts/ParksandRecreation/SwopeP...</td>\n",
              "      <td>1</td>\n",
              "      <td>[kcmo, org, CKCMO, Depts, ParksandRecreation, ...</td>\n",
              "      <td>[kcmo, org, ckcmo, dept, parksandrecr, swopepa...</td>\n",
              "    </tr>\n",
              "    <tr>\n",
              "      <th>303631</th>\n",
              "      <td>chevy100days.com/rules.html</td>\n",
              "      <td>1</td>\n",
              "      <td>[chevy, days, com, rules, html]</td>\n",
              "      <td>[chevi, day, com, rule, html]</td>\n",
              "    </tr>\n",
              "    <tr>\n",
              "      <th>287967</th>\n",
              "      <td>baseball-almanac.com/players/player.php?p=nich...</td>\n",
              "      <td>1</td>\n",
              "      <td>[baseball, almanac, com, players, player, php,...</td>\n",
              "      <td>[basebal, almanac, com, player, player, php, p...</td>\n",
              "    </tr>\n",
              "    <tr>\n",
              "      <th>310408</th>\n",
              "      <td>crecdn.com/en/home</td>\n",
              "      <td>1</td>\n",
              "      <td>[crecdn, com, en, home]</td>\n",
              "      <td>[crecdn, com, en, home]</td>\n",
              "    </tr>\n",
              "    <tr>\n",
              "      <th>366319</th>\n",
              "      <td>josephoranholtz.com/names/johnamesindex.php</td>\n",
              "      <td>1</td>\n",
              "      <td>[josephoranholtz, com, names, johnamesindex, php]</td>\n",
              "      <td>[josephoranholtz, com, name, johnamesindex, php]</td>\n",
              "    </tr>\n",
              "  </tbody>\n",
              "</table>\n",
              "</div>"
            ],
            "text/plain": [
              "                                                      URL  Label  \\\n",
              "367834  kcmo.org/CKCMO/Depts/ParksandRecreation/SwopeP...      1   \n",
              "303631                        chevy100days.com/rules.html      1   \n",
              "287967  baseball-almanac.com/players/player.php?p=nich...      1   \n",
              "310408                                 crecdn.com/en/home      1   \n",
              "366319        josephoranholtz.com/names/johnamesindex.php      1   \n",
              "\n",
              "                                           text_tokenized  \\\n",
              "367834  [kcmo, org, CKCMO, Depts, ParksandRecreation, ...   \n",
              "303631                    [chevy, days, com, rules, html]   \n",
              "287967  [baseball, almanac, com, players, player, php,...   \n",
              "310408                            [crecdn, com, en, home]   \n",
              "366319  [josephoranholtz, com, names, johnamesindex, php]   \n",
              "\n",
              "                                             text_stemmed  \n",
              "367834  [kcmo, org, ckcmo, dept, parksandrecr, swopepa...  \n",
              "303631                      [chevi, day, com, rule, html]  \n",
              "287967  [basebal, almanac, com, player, player, php, p...  \n",
              "310408                            [crecdn, com, en, home]  \n",
              "366319   [josephoranholtz, com, name, johnamesindex, php]  "
            ]
          },
          "execution_count": 16,
          "metadata": {},
          "output_type": "execute_result"
        }
      ],
      "source": [
        "phish_data.head()"
      ]
    },
    {
      "cell_type": "code",
      "execution_count": 14,
      "metadata": {
        "colab": {
          "base_uri": "https://localhost:8080/"
        },
        "id": "c8TnjrM0w3qF",
        "outputId": "8e0ebf18-0d80-4232-a252-89e96165e371"
      },
      "outputs": [
        {
          "name": "stdout",
          "output_type": "stream",
          "text": [
            "Getting joiningwords ...\n"
          ]
        }
      ],
      "source": [
        "print('Getting joiningwords ...')\n",
        "phish_data['text_sent'] = phish_data['text_stemmed'].map(lambda l: ' '.join(l))"
      ]
    },
    {
      "cell_type": "code",
      "execution_count": 18,
      "metadata": {
        "colab": {
          "base_uri": "https://localhost:8080/",
          "height": 496
        },
        "id": "p1imMSXGxKTI",
        "outputId": "b6ab7c03-d302-402b-b6cb-d769e33b8898"
      },
      "outputs": [
        {
          "data": {
            "text/html": [
              "<div>\n",
              "<style scoped>\n",
              "    .dataframe tbody tr th:only-of-type {\n",
              "        vertical-align: middle;\n",
              "    }\n",
              "\n",
              "    .dataframe tbody tr th {\n",
              "        vertical-align: top;\n",
              "    }\n",
              "\n",
              "    .dataframe thead th {\n",
              "        text-align: right;\n",
              "    }\n",
              "</style>\n",
              "<table border=\"1\" class=\"dataframe\">\n",
              "  <thead>\n",
              "    <tr style=\"text-align: right;\">\n",
              "      <th></th>\n",
              "      <th>URL</th>\n",
              "      <th>Label</th>\n",
              "      <th>text_tokenized</th>\n",
              "      <th>text_stemmed</th>\n",
              "      <th>text_sent</th>\n",
              "    </tr>\n",
              "  </thead>\n",
              "  <tbody>\n",
              "    <tr>\n",
              "      <th>367834</th>\n",
              "      <td>kcmo.org/CKCMO/Depts/ParksandRecreation/SwopeP...</td>\n",
              "      <td>1</td>\n",
              "      <td>[kcmo, org, CKCMO, Depts, ParksandRecreation, ...</td>\n",
              "      <td>[kcmo, org, ckcmo, dept, parksandrecr, swopepa...</td>\n",
              "      <td>kcmo org ckcmo dept parksandrecr swopepark ind...</td>\n",
              "    </tr>\n",
              "    <tr>\n",
              "      <th>303631</th>\n",
              "      <td>chevy100days.com/rules.html</td>\n",
              "      <td>1</td>\n",
              "      <td>[chevy, days, com, rules, html]</td>\n",
              "      <td>[chevi, day, com, rule, html]</td>\n",
              "      <td>chevi day com rule html</td>\n",
              "    </tr>\n",
              "    <tr>\n",
              "      <th>287967</th>\n",
              "      <td>baseball-almanac.com/players/player.php?p=nich...</td>\n",
              "      <td>1</td>\n",
              "      <td>[baseball, almanac, com, players, player, php,...</td>\n",
              "      <td>[basebal, almanac, com, player, player, php, p...</td>\n",
              "      <td>basebal almanac com player player php p nichoki</td>\n",
              "    </tr>\n",
              "    <tr>\n",
              "      <th>310408</th>\n",
              "      <td>crecdn.com/en/home</td>\n",
              "      <td>1</td>\n",
              "      <td>[crecdn, com, en, home]</td>\n",
              "      <td>[crecdn, com, en, home]</td>\n",
              "      <td>crecdn com en home</td>\n",
              "    </tr>\n",
              "    <tr>\n",
              "      <th>366319</th>\n",
              "      <td>josephoranholtz.com/names/johnamesindex.php</td>\n",
              "      <td>1</td>\n",
              "      <td>[josephoranholtz, com, names, johnamesindex, php]</td>\n",
              "      <td>[josephoranholtz, com, name, johnamesindex, php]</td>\n",
              "      <td>josephoranholtz com name johnamesindex php</td>\n",
              "    </tr>\n",
              "  </tbody>\n",
              "</table>\n",
              "</div>"
            ],
            "text/plain": [
              "                                                      URL  Label  \\\n",
              "367834  kcmo.org/CKCMO/Depts/ParksandRecreation/SwopeP...      1   \n",
              "303631                        chevy100days.com/rules.html      1   \n",
              "287967  baseball-almanac.com/players/player.php?p=nich...      1   \n",
              "310408                                 crecdn.com/en/home      1   \n",
              "366319        josephoranholtz.com/names/johnamesindex.php      1   \n",
              "\n",
              "                                           text_tokenized  \\\n",
              "367834  [kcmo, org, CKCMO, Depts, ParksandRecreation, ...   \n",
              "303631                    [chevy, days, com, rules, html]   \n",
              "287967  [baseball, almanac, com, players, player, php,...   \n",
              "310408                            [crecdn, com, en, home]   \n",
              "366319  [josephoranholtz, com, names, johnamesindex, php]   \n",
              "\n",
              "                                             text_stemmed  \\\n",
              "367834  [kcmo, org, ckcmo, dept, parksandrecr, swopepa...   \n",
              "303631                      [chevi, day, com, rule, html]   \n",
              "287967  [basebal, almanac, com, player, player, php, p...   \n",
              "310408                            [crecdn, com, en, home]   \n",
              "366319   [josephoranholtz, com, name, johnamesindex, php]   \n",
              "\n",
              "                                                text_sent  \n",
              "367834  kcmo org ckcmo dept parksandrecr swopepark ind...  \n",
              "303631                            chevi day com rule html  \n",
              "287967    basebal almanac com player player php p nichoki  \n",
              "310408                                 crecdn com en home  \n",
              "366319         josephoranholtz com name johnamesindex php  "
            ]
          },
          "execution_count": 18,
          "metadata": {},
          "output_type": "execute_result"
        }
      ],
      "source": [
        "phish_data.head()"
      ]
    },
    {
      "cell_type": "code",
      "execution_count": 15,
      "metadata": {
        "id": "gRmhp2JBw3kP"
      },
      "outputs": [],
      "source": [
        "bad_sites = phish_data[phish_data.Label == 0]\n",
        "good_sites = phish_data[phish_data.Label == 1]"
      ]
    },
    {
      "cell_type": "code",
      "execution_count": 16,
      "metadata": {
        "colab": {
          "base_uri": "https://localhost:8080/",
          "height": 496
        },
        "id": "hAqFhmmuw3hF",
        "outputId": "476b9d82-9172-485a-abad-e2379aa27608"
      },
      "outputs": [
        {
          "data": {
            "text/html": [
              "<div>\n",
              "<style scoped>\n",
              "    .dataframe tbody tr th:only-of-type {\n",
              "        vertical-align: middle;\n",
              "    }\n",
              "\n",
              "    .dataframe tbody tr th {\n",
              "        vertical-align: top;\n",
              "    }\n",
              "\n",
              "    .dataframe thead th {\n",
              "        text-align: right;\n",
              "    }\n",
              "</style>\n",
              "<table border=\"1\" class=\"dataframe\">\n",
              "  <thead>\n",
              "    <tr style=\"text-align: right;\">\n",
              "      <th></th>\n",
              "      <th>URL</th>\n",
              "      <th>Label</th>\n",
              "      <th>text_tokenized</th>\n",
              "      <th>text_stemmed</th>\n",
              "      <th>text_sent</th>\n",
              "    </tr>\n",
              "  </thead>\n",
              "  <tbody>\n",
              "    <tr>\n",
              "      <th>40070</th>\n",
              "      <td>ouled-kenitra.com/webscr.php</td>\n",
              "      <td>0</td>\n",
              "      <td>[ouled, kenitra, com, webscr, php]</td>\n",
              "      <td>[oul, kenitra, com, webscr, php]</td>\n",
              "      <td>oul kenitra com webscr php</td>\n",
              "    </tr>\n",
              "    <tr>\n",
              "      <th>188</th>\n",
              "      <td>tvzoetermeer.nl/wp-content/via.php?Korbin.Mcki...</td>\n",
              "      <td>0</td>\n",
              "      <td>[tvzoetermeer, nl, wp, content, via, php, Korb...</td>\n",
              "      <td>[tvzoeterm, nl, wp, content, via, php, korbin,...</td>\n",
              "      <td>tvzoeterm nl wp content via php korbin mckinney</td>\n",
              "    </tr>\n",
              "    <tr>\n",
              "      <th>516455</th>\n",
              "      <td>new.ASKGRANNYSHOP.COM/?ct=Vivaldi&amp;amp;q=w33QMv...</td>\n",
              "      <td>0</td>\n",
              "      <td>[new, ASKGRANNYSHOP, COM, ct, Vivaldi, amp, q,...</td>\n",
              "      <td>[new, askgrannyshop, com, ct, vivaldi, amp, q,...</td>\n",
              "      <td>new askgrannyshop com ct vivaldi amp q w qmvxc...</td>\n",
              "    </tr>\n",
              "    <tr>\n",
              "      <th>113821</th>\n",
              "      <td>living4u.80port.net/zb/doc/file.index.htm/Rema...</td>\n",
              "      <td>0</td>\n",
              "      <td>[living, u, port, net, zb, doc, file, index, h...</td>\n",
              "      <td>[live, u, port, net, zb, doc, file, index, htm...</td>\n",
              "      <td>live u port net zb doc file index htm remax se...</td>\n",
              "    </tr>\n",
              "    <tr>\n",
              "      <th>102231</th>\n",
              "      <td>gouv.ameli.rembe.assur.aloestravailamelimporta...</td>\n",
              "      <td>0</td>\n",
              "      <td>[gouv, ameli, rembe, assur, aloestravailamelim...</td>\n",
              "      <td>[gouv, ame, remb, assur, aloestravailamelimpor...</td>\n",
              "      <td>gouv ame remb assur aloestravailamelimport com...</td>\n",
              "    </tr>\n",
              "  </tbody>\n",
              "</table>\n",
              "</div>"
            ],
            "text/plain": [
              "                                                      URL  Label  \\\n",
              "40070                        ouled-kenitra.com/webscr.php      0   \n",
              "188     tvzoetermeer.nl/wp-content/via.php?Korbin.Mcki...      0   \n",
              "516455  new.ASKGRANNYSHOP.COM/?ct=Vivaldi&amp;q=w33QMv...      0   \n",
              "113821  living4u.80port.net/zb/doc/file.index.htm/Rema...      0   \n",
              "102231  gouv.ameli.rembe.assur.aloestravailamelimporta...      0   \n",
              "\n",
              "                                           text_tokenized  \\\n",
              "40070                  [ouled, kenitra, com, webscr, php]   \n",
              "188     [tvzoetermeer, nl, wp, content, via, php, Korb...   \n",
              "516455  [new, ASKGRANNYSHOP, COM, ct, Vivaldi, amp, q,...   \n",
              "113821  [living, u, port, net, zb, doc, file, index, h...   \n",
              "102231  [gouv, ameli, rembe, assur, aloestravailamelim...   \n",
              "\n",
              "                                             text_stemmed  \\\n",
              "40070                    [oul, kenitra, com, webscr, php]   \n",
              "188     [tvzoeterm, nl, wp, content, via, php, korbin,...   \n",
              "516455  [new, askgrannyshop, com, ct, vivaldi, amp, q,...   \n",
              "113821  [live, u, port, net, zb, doc, file, index, htm...   \n",
              "102231  [gouv, ame, remb, assur, aloestravailamelimpor...   \n",
              "\n",
              "                                                text_sent  \n",
              "40070                          oul kenitra com webscr php  \n",
              "188       tvzoeterm nl wp content via php korbin mckinney  \n",
              "516455  new askgrannyshop com ct vivaldi amp q w qmvxc...  \n",
              "113821  live u port net zb doc file index htm remax se...  \n",
              "102231  gouv ame remb assur aloestravailamelimport com...  "
            ]
          },
          "execution_count": 16,
          "metadata": {},
          "output_type": "execute_result"
        }
      ],
      "source": [
        "bad_sites.head()"
      ]
    },
    {
      "cell_type": "code",
      "execution_count": 17,
      "metadata": {
        "colab": {
          "base_uri": "https://localhost:8080/",
          "height": 582
        },
        "id": "3Ps0luxjw3eR",
        "outputId": "1a47565e-4bf4-42b7-b5ab-2d8df11afa16"
      },
      "outputs": [
        {
          "data": {
            "text/html": [
              "<div>\n",
              "<style scoped>\n",
              "    .dataframe tbody tr th:only-of-type {\n",
              "        vertical-align: middle;\n",
              "    }\n",
              "\n",
              "    .dataframe tbody tr th {\n",
              "        vertical-align: top;\n",
              "    }\n",
              "\n",
              "    .dataframe thead th {\n",
              "        text-align: right;\n",
              "    }\n",
              "</style>\n",
              "<table border=\"1\" class=\"dataframe\">\n",
              "  <thead>\n",
              "    <tr style=\"text-align: right;\">\n",
              "      <th></th>\n",
              "      <th>URL</th>\n",
              "      <th>Label</th>\n",
              "      <th>text_tokenized</th>\n",
              "      <th>text_stemmed</th>\n",
              "      <th>text_sent</th>\n",
              "    </tr>\n",
              "  </thead>\n",
              "  <tbody>\n",
              "    <tr>\n",
              "      <th>394243</th>\n",
              "      <td>museumstuff.com/family-history/names/Cadena.php</td>\n",
              "      <td>1</td>\n",
              "      <td>[museumstuff, com, family, history, names, Cad...</td>\n",
              "      <td>[museumstuff, com, famili, histori, name, cade...</td>\n",
              "      <td>museumstuff com famili histori name cadena php</td>\n",
              "    </tr>\n",
              "    <tr>\n",
              "      <th>455884</th>\n",
              "      <td>urbandictionary.com/define.php?term=ROI</td>\n",
              "      <td>1</td>\n",
              "      <td>[urbandictionary, com, define, php, term, ROI]</td>\n",
              "      <td>[urbandictionari, com, defin, php, term, roi]</td>\n",
              "      <td>urbandictionari com defin php term roi</td>\n",
              "    </tr>\n",
              "    <tr>\n",
              "      <th>148515</th>\n",
              "      <td>beemp3.com/index.php?q=beyonce+single+ladies+p...</td>\n",
              "      <td>1</td>\n",
              "      <td>[beemp, com, index, php, q, beyonce, single, l...</td>\n",
              "      <td>[beemp, com, index, php, q, beyonc, singl, lad...</td>\n",
              "      <td>beemp com index php q beyonc singl ladi put ring</td>\n",
              "    </tr>\n",
              "    <tr>\n",
              "      <th>316626</th>\n",
              "      <td>dormie2.com/bishop/genealogy/GEDCOM/D0002/G000...</td>\n",
              "      <td>1</td>\n",
              "      <td>[dormie, com, bishop, genealogy, GEDCOM, D, G,...</td>\n",
              "      <td>[dormi, com, bishop, genealog, gedcom, d, g, h...</td>\n",
              "      <td>dormi com bishop genealog gedcom d g html</td>\n",
              "    </tr>\n",
              "    <tr>\n",
              "      <th>469199</th>\n",
              "      <td>yelp.com/biz/amtrak-pittsburgh</td>\n",
              "      <td>1</td>\n",
              "      <td>[yelp, com, biz, amtrak, pittsburgh]</td>\n",
              "      <td>[yelp, com, biz, amtrak, pittsburgh]</td>\n",
              "      <td>yelp com biz amtrak pittsburgh</td>\n",
              "    </tr>\n",
              "  </tbody>\n",
              "</table>\n",
              "</div>"
            ],
            "text/plain": [
              "                                                      URL  Label  \\\n",
              "394243    museumstuff.com/family-history/names/Cadena.php      1   \n",
              "455884            urbandictionary.com/define.php?term=ROI      1   \n",
              "148515  beemp3.com/index.php?q=beyonce+single+ladies+p...      1   \n",
              "316626  dormie2.com/bishop/genealogy/GEDCOM/D0002/G000...      1   \n",
              "469199                     yelp.com/biz/amtrak-pittsburgh      1   \n",
              "\n",
              "                                           text_tokenized  \\\n",
              "394243  [museumstuff, com, family, history, names, Cad...   \n",
              "455884     [urbandictionary, com, define, php, term, ROI]   \n",
              "148515  [beemp, com, index, php, q, beyonce, single, l...   \n",
              "316626  [dormie, com, bishop, genealogy, GEDCOM, D, G,...   \n",
              "469199               [yelp, com, biz, amtrak, pittsburgh]   \n",
              "\n",
              "                                             text_stemmed  \\\n",
              "394243  [museumstuff, com, famili, histori, name, cade...   \n",
              "455884      [urbandictionari, com, defin, php, term, roi]   \n",
              "148515  [beemp, com, index, php, q, beyonc, singl, lad...   \n",
              "316626  [dormi, com, bishop, genealog, gedcom, d, g, h...   \n",
              "469199               [yelp, com, biz, amtrak, pittsburgh]   \n",
              "\n",
              "                                               text_sent  \n",
              "394243    museumstuff com famili histori name cadena php  \n",
              "455884            urbandictionari com defin php term roi  \n",
              "148515  beemp com index php q beyonc singl ladi put ring  \n",
              "316626         dormi com bishop genealog gedcom d g html  \n",
              "469199                    yelp com biz amtrak pittsburgh  "
            ]
          },
          "execution_count": 17,
          "metadata": {},
          "output_type": "execute_result"
        }
      ],
      "source": [
        "good_sites.head()"
      ]
    },
    {
      "cell_type": "code",
      "execution_count": 18,
      "metadata": {
        "colab": {
          "base_uri": "https://localhost:8080/",
          "height": 139
        },
        "id": "wbTVyZVEw3bh",
        "outputId": "cf828b70-c96f-4ad1-f67a-7b0d869e6533"
      },
      "outputs": [
        {
          "data": {
            "text/plain": [
              "'0           museumstuff com famili histori name cadena php\\n1                   urbandictionari com defin php term roi\\n2         beemp com index php q beyonc singl ladi put ring\\n3                dormi com bishop genealog gedcom d g html\\n4                           yelp com biz amtrak pittsburgh\\n                               ...                        \\n39295    nofxbootleg blogspot com nofx fear of punk pla...\\n39296    rbr com tv cabl three california nbc station l...\\n39297    jerseyhistori org findingaiddirnb php dir ead ...\\n39298    realestatevin ca properti rue rancourt montrea...\\n39299    mysanantonio com sport colleg sport big articl...\\nName: text_sent, Length: 39300, dtype: object'"
            ]
          },
          "execution_count": 18,
          "metadata": {},
          "output_type": "execute_result"
        }
      ],
      "source": [
        "data = good_sites.text_sent\n",
        "data.reset_index(drop=True, inplace=True)\n",
        "common_text = str(data)\n",
        "common_text"
      ]
    },
    {
      "cell_type": "code",
      "execution_count": 19,
      "metadata": {
        "colab": {
          "base_uri": "https://localhost:8080/",
          "height": 139
        },
        "id": "7Ro4YF0Mw3Yl",
        "outputId": "d3e3804c-2a43-4e20-a86d-1b6825dc19bb"
      },
      "outputs": [
        {
          "data": {
            "text/plain": [
              "'0                               oul kenitra com webscr php\\n1          tvzoeterm nl wp content via php korbin mckinney\\n2        new askgrannyshop com ct vivaldi amp q w qmvxc...\\n3        live u port net zb doc file index htm remax se...\\n4        gouv ame remb assur aloestravailamelimport com...\\n                               ...                        \\n15629                       retoftontto com zapoy gate php\\n15630    petewak com wp content account activ suport ce...\\n15631                             datasnood com upqgz hsxc\\n15632                                              muk png\\n15633    u sendgrid org wf click upn dvf kenxekn sqzlhc...\\nName: text_sent, Length: 15634, dtype: object'"
            ]
          },
          "execution_count": 19,
          "metadata": {},
          "output_type": "execute_result"
        }
      ],
      "source": [
        "data = bad_sites.text_sent\n",
        "data.reset_index(drop=True, inplace=True)\n",
        "common_text = str(data)\n",
        "common_text"
      ]
    },
    {
      "cell_type": "code",
      "execution_count": 20,
      "metadata": {
        "id": "ZouZFva5w3Vz"
      },
      "outputs": [],
      "source": [
        "cv = CountVectorizer()"
      ]
    },
    {
      "cell_type": "code",
      "execution_count": 39,
      "metadata": {},
      "outputs": [
        {
          "data": {
            "text/plain": [
              "0         nobel it ffb d dca cce f login skype com en cg...\n",
              "1         www dghjdgf com paypal co uk cycgi bin webscrc...\n",
              "2         serviciosbi com paypal cgi bin get into herf s...\n",
              "3         mail printakid com www onlin americanexpress c...\n",
              "4         thewhiskeydreg com wp content theme widescreen...\n",
              "                                ...                        \n",
              "549341                                                     \n",
              "549342                                     appl checker org\n",
              "549343                                       appl iclod org\n",
              "549344                                     appl uptoday org\n",
              "549345                                     appl search info\n",
              "Name: text_sent, Length: 549346, dtype: object"
            ]
          },
          "execution_count": 39,
          "metadata": {},
          "output_type": "execute_result"
        }
      ],
      "source": [
        "phish_data.text_sent"
      ]
    },
    {
      "cell_type": "code",
      "execution_count": 21,
      "metadata": {
        "id": "Zplo0RJww3S1"
      },
      "outputs": [],
      "source": [
        "feature = cv.fit_transform(phish_data.text_sent) #transform all text which we tokenize and stemed"
      ]
    },
    {
      "cell_type": "code",
      "execution_count": 22,
      "metadata": {
        "colab": {
          "base_uri": "https://localhost:8080/"
        },
        "id": "qe9PzJkNw3KV",
        "outputId": "9f98fd3e-a95a-4f1f-bff6-dd2ec008085b"
      },
      "outputs": [
        {
          "data": {
            "text/plain": [
              "array([[0, 0, 0, ..., 0, 0, 0],\n",
              "       [0, 0, 0, ..., 0, 0, 0],\n",
              "       [0, 0, 0, ..., 0, 0, 0],\n",
              "       ...,\n",
              "       [0, 0, 0, ..., 0, 0, 0],\n",
              "       [0, 0, 0, ..., 0, 0, 0],\n",
              "       [0, 0, 0, ..., 0, 0, 0]], dtype=int64)"
            ]
          },
          "execution_count": 22,
          "metadata": {},
          "output_type": "execute_result"
        }
      ],
      "source": [
        "feature[:7].toarray()"
      ]
    },
    {
      "cell_type": "code",
      "execution_count": 23,
      "metadata": {
        "id": "wzcJ8nc23ull"
      },
      "outputs": [],
      "source": [
        "trainX, testX, trainY, testY = train_test_split(feature, phish_data.Label,test_size=0.4, random_state=1)"
      ]
    },
    {
      "cell_type": "markdown",
      "metadata": {
        "id": "jZ3Zy4X833WI"
      },
      "source": [
        "logistic regression"
      ]
    },
    {
      "cell_type": "code",
      "execution_count": 50,
      "metadata": {
        "colab": {
          "base_uri": "https://localhost:8080/"
        },
        "id": "UVyto-Ii3uiw",
        "outputId": "5beda4a7-3ea1-4ed4-d2a9-5c4710f1817e"
      },
      "outputs": [
        {
          "data": {
            "text/plain": [
              "0.9616135506214191"
            ]
          },
          "execution_count": 50,
          "metadata": {},
          "output_type": "execute_result"
        }
      ],
      "source": [
        "lr = LogisticRegression()\n",
        "lr.fit(trainX,trainY)\n",
        "lr.score(testX,testY)\n"
      ]
    },
    {
      "cell_type": "code",
      "execution_count": 105,
      "metadata": {
        "colab": {
          "base_uri": "https://localhost:8080/",
          "height": 560
        },
        "id": "z-zJkC9n3uf7",
        "outputId": "a424f3ec-24b5-44a2-a552-b578ff8b1f76"
      },
      "outputs": [
        {
          "name": "stdout",
          "output_type": "stream",
          "text": [
            "\n",
            "CLASSIFICATION REPORT\n",
            "\n",
            "              precision    recall  f1-score   support\n",
            "\n",
            "         Bad       0.81      0.95      0.87      5284\n",
            "        Good       0.98      0.93      0.96     16690\n",
            "\n",
            "    accuracy                           0.93     21974\n",
            "   macro avg       0.90      0.94      0.91     21974\n",
            "weighted avg       0.94      0.93      0.94     21974\n",
            "\n",
            "\n",
            "CONFUSION MATRIX\n"
          ]
        },
        {
          "data": {
            "image/png": "[encoded data removed]",
            "text/plain": [
              "<Figure size 432x288 with 2 Axes>"
            ]
          },
          "metadata": {
            "needs_background": "light"
          },
          "output_type": "display_data"
        }
      ],
      "source": [
        "\n",
        "print('\\nCLASSIFICATION REPORT\\n')\n",
        "print(classification_report(lr.predict(testX), testY,\n",
        "                            target_names =['Bad','Good']))\n",
        "print('\\nCONFUSION MATRIX')\n",
        "confusion_matrix = metrics.confusion_matrix(lr.predict(testX), testY)\n",
        "cm_display = metrics.ConfusionMatrixDisplay(confusion_matrix = confusion_matrix, display_labels = [False, True])\n",
        "cm_display.plot()\n",
        "plt.show()\n",
        "\n"
      ]
    },
    {
      "cell_type": "code",
      "execution_count": 106,
      "metadata": {},
      "outputs": [
        {
          "data": {
            "image/png": "[encoded data removed]",
            "text/plain": [
              "<Figure size 432x288 with 1 Axes>"
            ]
          },
          "metadata": {
            "needs_background": "light"
          },
          "output_type": "display_data"
        }
      ],
      "source": [
        "from sklearn.metrics import roc_curve, auc\n",
        "\n",
        "# Generate false positive rate, true positive rate, and thresholds\n",
        "fpr, tpr, thresholds = roc_curve(testY,lr.predict(testX))\n",
        "\n",
        "# Compute AUC\n",
        "roc_auc = auc(fpr, tpr)\n",
        "\n",
        "# Plot ROC curve\n",
        "plt.title('Receiver Operating Characteristic')\n",
        "plt.plot(fpr, tpr, 'b', label = 'AUC = %0.2f' % roc_auc)\n",
        "plt.legend(loc = 'lower right')\n",
        "plt.plot([0, 1], [0, 1],'r--')\n",
        "plt.xlim([0, 1])\n",
        "plt.ylim([0, 1])\n",
        "plt.ylabel('True Positive Rate')\n",
        "plt.xlabel('False Positive Rate')\n",
        "plt.show()"
      ]
    },
    {
      "cell_type": "markdown",
      "metadata": {
        "id": "d81L4-EE8q1o"
      },
      "source": [
        "MultinomialNB"
      ]
    },
    {
      "cell_type": "code",
      "execution_count": 17,
      "metadata": {
        "colab": {
          "base_uri": "https://localhost:8080/"
        },
        "id": "qZccnmHf3uck",
        "outputId": "a499a533-eeb0-4057-926d-3473c8fd94cb"
      },
      "outputs": [
        {
          "data": {
            "text/plain": [
              "0.9559340854377238"
            ]
          },
          "execution_count": 17,
          "metadata": {},
          "output_type": "execute_result"
        }
      ],
      "source": [
        "mnb = MultinomialNB()\n",
        "mnb.fit(trainX,trainY)\n",
        "mnb.score(testX,testY)"
      ]
    },
    {
      "cell_type": "code",
      "execution_count": 19,
      "metadata": {},
      "outputs": [],
      "source": [
        "import pickle\n",
        "pickle.dump(mnb,open(\"model.pkl\",\"wb\"))"
      ]
    },
    {
      "cell_type": "code",
      "execution_count": 65,
      "metadata": {},
      "outputs": [],
      "source": [
        "pickle.dump(cv, open('vectorizer.pkl', 'wb'))"
      ]
    },
    {
      "cell_type": "code",
      "execution_count": 62,
      "metadata": {},
      "outputs": [],
      "source": [
        "import pickle\n",
        "model=pickle.load(open(\"model.pkl\", \"rb\"))"
      ]
    },
    {
      "cell_type": "code",
      "execution_count": 69,
      "metadata": {},
      "outputs": [
        {
          "data": {
            "text/plain": [
              "array([1])"
            ]
          },
          "execution_count": 69,
          "metadata": {},
          "output_type": "execute_result"
        }
      ],
      "source": [
        "a=\"youtube.com\"\n",
        "tokenizer = RegexpTokenizer(r'[A-Za-z]+')\n",
        "data = tokenizer.tokenize(a) # doing with all rows\n",
        "stemmer = SnowballStemmer(\"english\") # choose a language\n",
        "stemmed_data = [stemmer.stem(word) for word in data]\n",
        "joined_data = ' '.join(stemmed_data)\n",
        "vectorized_data = cv.transform([joined_data])\n",
        "model.predict(vectorized_data)"
      ]
    },
    {
      "cell_type": "code",
      "execution_count": 119,
      "metadata": {
        "colab": {
          "base_uri": "https://localhost:8080/",
          "height": 560
        },
        "id": "8MYpIkdp3uZi",
        "outputId": "0fc3ae8a-bcb4-464c-eddc-fea274c82ae8"
      },
      "outputs": [
        {
          "name": "stdout",
          "output_type": "stream",
          "text": [
            "\n",
            "CLASSIFICATION REPORT\n",
            "\n",
            "              precision    recall  f1-score   support\n",
            "\n",
            "         Bad       0.84      0.93      0.88      5585\n",
            "        Good       0.97      0.94      0.96     16389\n",
            "\n",
            "    accuracy                           0.94     21974\n",
            "   macro avg       0.90      0.93      0.92     21974\n",
            "weighted avg       0.94      0.94      0.94     21974\n",
            "\n",
            "\n",
            "CONFUSION MATRIX\n"
          ]
        },
        {
          "data": {
            "image/png": "[encoded data removed]",
            "text/plain": [
              "<Figure size 432x288 with 2 Axes>"
            ]
          },
          "metadata": {
            "needs_background": "light"
          },
          "output_type": "display_data"
        }
      ],
      "source": [
        "\n",
        "print('\\nCLASSIFICATION REPORT\\n')\n",
        "print(classification_report(mnb.predict(testX), testY,\n",
        "                            target_names =['Bad','Good']))\n",
        "print('\\nCONFUSION MATRIX')\n",
        "confusion_matrix = metrics.confusion_matrix(mnb.predict(testX), testY)\n",
        "cm_display = metrics.ConfusionMatrixDisplay(confusion_matrix = confusion_matrix, display_labels = [False, True])\n",
        "cm_display.plot()\n",
        "plt.show()"
      ]
    },
    {
      "cell_type": "code",
      "execution_count": 121,
      "metadata": {},
      "outputs": [
        {
          "data": {
            "image/png": "[encoded data removed]",
            "text/plain": [
              "<Figure size 432x288 with 1 Axes>"
            ]
          },
          "metadata": {
            "needs_background": "light"
          },
          "output_type": "display_data"
        }
      ],
      "source": [
        "from sklearn.metrics import roc_curve, auc\n",
        "# Generate false positive rate, true positive rate, and thresholds\n",
        "fpr, tpr, thresholds = roc_curve(testY,mnb.predict(testX))\n",
        "# Compute AUC\n",
        "roc_auc = auc(fpr, tpr)\n",
        "# Plot ROC curve\n",
        "plt.title('Receiver Operating Characteristic')\n",
        "plt.plot(fpr, tpr, 'b', label = 'AUC = %0.2f' % roc_auc)\n",
        "plt.legend(loc = 'lower right')\n",
        "plt.plot([0, 1], [0, 1],'r--')\n",
        "plt.xlim([0, 1])\n",
        "plt.ylim([0, 1])\n",
        "plt.ylabel('True Positive Rate')\n",
        "plt.xlabel('False Positive Rate')\n",
        "plt.show()"
      ]
    },
    {
      "attachments": {},
      "cell_type": "markdown",
      "metadata": {},
      "source": [
        "Decision TREE\n"
      ]
    },
    {
      "cell_type": "code",
      "execution_count": 122,
      "metadata": {},
      "outputs": [
        {
          "data": {
            "text/plain": [
              "0.9201783926458542"
            ]
          },
          "execution_count": 122,
          "metadata": {},
          "output_type": "execute_result"
        }
      ],
      "source": [
        "dt = DecisionTreeClassifier()\n",
        "dt.fit(trainX,trainY)\n",
        "dt.score(testX,testY)"
      ]
    },
    {
      "cell_type": "code",
      "execution_count": 123,
      "metadata": {},
      "outputs": [
        {
          "name": "stdout",
          "output_type": "stream",
          "text": [
            "\n",
            "CLASSIFICATION REPORT\n",
            "\n",
            "              precision    recall  f1-score   support\n",
            "\n",
            "         Bad       0.80      0.91      0.85      5430\n",
            "        Good       0.97      0.92      0.95     16544\n",
            "\n",
            "    accuracy                           0.92     21974\n",
            "   macro avg       0.88      0.92      0.90     21974\n",
            "weighted avg       0.93      0.92      0.92     21974\n",
            "\n",
            "\n",
            "CONFUSION MATRIX\n"
          ]
        },
        {
          "data": {
            "image/png": "[encoded data removed]",
            "text/plain": [
              "<Figure size 432x288 with 2 Axes>"
            ]
          },
          "metadata": {
            "needs_background": "light"
          },
          "output_type": "display_data"
        }
      ],
      "source": [
        "print('\\nCLASSIFICATION REPORT\\n')\n",
        "print(classification_report(dt.predict(testX), testY,\n",
        "                            target_names =['Bad','Good']))\n",
        "print('\\nCONFUSION MATRIX')\n",
        "confusion_matrix = metrics.confusion_matrix(dt.predict(testX), testY)\n",
        "cm_display = metrics.ConfusionMatrixDisplay(confusion_matrix = confusion_matrix, display_labels = [False, True])\n",
        "cm_display.plot()\n",
        "plt.show()"
      ]
    },
    {
      "cell_type": "code",
      "execution_count": 124,
      "metadata": {},
      "outputs": [
        {
          "data": {
            "image/png": "[encoded data removed]",
            "text/plain": [
              "<Figure size 432x288 with 1 Axes>"
            ]
          },
          "metadata": {
            "needs_background": "light"
          },
          "output_type": "display_data"
        }
      ],
      "source": [
        "from sklearn.metrics import roc_curve, auc\n",
        "# Generate false positive rate, true positive rate, and thresholds\n",
        "fpr, tpr, thresholds = roc_curve(testY,dt.predict(testX))\n",
        "# Compute AUC\n",
        "roc_auc = auc(fpr, tpr)\n",
        "# Plot ROC curve\n",
        "plt.title('Receiver Operating Characteristic')\n",
        "plt.plot(fpr, tpr, 'b', label = 'AUC = %0.2f' % roc_auc)\n",
        "plt.legend(loc = 'lower right')\n",
        "plt.plot([0, 1], [0, 1],'r--')\n",
        "plt.xlim([0, 1])\n",
        "plt.ylim([0, 1])\n",
        "plt.ylabel('True Positive Rate')\n",
        "plt.xlabel('False Positive Rate')\n",
        "plt.show()"
      ]
    },
    {
      "attachments": {},
      "cell_type": "markdown",
      "metadata": {},
      "source": [
        "Random Forest"
      ]
    },
    {
      "cell_type": "code",
      "execution_count": 125,
      "metadata": {},
      "outputs": [
        {
          "data": {
            "text/plain": [
              "0.9331937744607263"
            ]
          },
          "execution_count": 125,
          "metadata": {},
          "output_type": "execute_result"
        }
      ],
      "source": [
        "# Train a random forest model\n",
        "rf = RandomForestClassifier()\n",
        "rf.fit(trainX,trainY)\n",
        "rf.score(testX,testY)"
      ]
    },
    {
      "cell_type": "code",
      "execution_count": 126,
      "metadata": {},
      "outputs": [
        {
          "name": "stdout",
          "output_type": "stream",
          "text": [
            "\n",
            "CLASSIFICATION REPORT\n",
            "\n",
            "              precision    recall  f1-score   support\n",
            "\n",
            "         Bad       0.81      0.95      0.87      5292\n",
            "        Good       0.98      0.93      0.95     16682\n",
            "\n",
            "    accuracy                           0.93     21974\n",
            "   macro avg       0.90      0.94      0.91     21974\n",
            "weighted avg       0.94      0.93      0.93     21974\n",
            "\n",
            "\n",
            "CONFUSION MATRIX\n"
          ]
        },
        {
          "data": {
            "image/png": "[encoded data removed]",
            "text/plain": [
              "<Figure size 432x288 with 2 Axes>"
            ]
          },
          "metadata": {
            "needs_background": "light"
          },
          "output_type": "display_data"
        }
      ],
      "source": [
        "print('\\nCLASSIFICATION REPORT\\n')\n",
        "print(classification_report(rf.predict(testX), testY,\n",
        "                            target_names =['Bad','Good']))\n",
        "print('\\nCONFUSION MATRIX')\n",
        "confusion_matrix = metrics.confusion_matrix(rf.predict(testX), testY)\n",
        "cm_display = metrics.ConfusionMatrixDisplay(confusion_matrix = confusion_matrix, display_labels = [False, True])\n",
        "cm_display.plot()\n",
        "plt.show()"
      ]
    },
    {
      "cell_type": "code",
      "execution_count": 127,
      "metadata": {},
      "outputs": [
        {
          "data": {
            "image/png": "[encoded data removed]",
            "text/plain": [
              "<Figure size 432x288 with 1 Axes>"
            ]
          },
          "metadata": {
            "needs_background": "light"
          },
          "output_type": "display_data"
        }
      ],
      "source": [
        "from sklearn.metrics import roc_curve, auc\n",
        "# Generate false positive rate, true positive rate, and thresholds\n",
        "fpr, tpr, thresholds = roc_curve(testY,rf.predict(testX))\n",
        "# Compute AUC\n",
        "roc_auc = auc(fpr, tpr)\n",
        "# Plot ROC curve\n",
        "plt.title('Receiver Operating Characteristic')\n",
        "plt.plot(fpr, tpr, 'b', label = 'AUC = %0.2f' % roc_auc)\n",
        "plt.legend(loc = 'lower right')\n",
        "plt.plot([0, 1], [0, 1],'r--')\n",
        "plt.xlim([0, 1])\n",
        "plt.ylim([0, 1])\n",
        "plt.ylabel('True Positive Rate')\n",
        "plt.xlabel('False Positive Rate')\n",
        "plt.show()"
      ]
    },
    {
      "attachments": {},
      "cell_type": "markdown",
      "metadata": {},
      "source": [
        "SVM"
      ]
    },
    {
      "cell_type": "code",
      "execution_count": 128,
      "metadata": {},
      "outputs": [
        {
          "data": {
            "text/plain": [
              "0.9295986165468281"
            ]
          },
          "execution_count": 128,
          "metadata": {},
          "output_type": "execute_result"
        }
      ],
      "source": [
        "# Train a support vector machine model\n",
        "svc = SVC()\n",
        "svc.fit(trainX,trainY)\n",
        "svc.score(testX,testY)"
      ]
    },
    {
      "cell_type": "code",
      "execution_count": 129,
      "metadata": {},
      "outputs": [
        {
          "name": "stdout",
          "output_type": "stream",
          "text": [
            "\n",
            "CLASSIFICATION REPORT\n",
            "\n",
            "              precision    recall  f1-score   support\n",
            "\n",
            "         Bad       0.79      0.95      0.86      5179\n",
            "        Good       0.98      0.92      0.95     16795\n",
            "\n",
            "    accuracy                           0.93     21974\n",
            "   macro avg       0.89      0.94      0.91     21974\n",
            "weighted avg       0.94      0.93      0.93     21974\n",
            "\n",
            "\n",
            "CONFUSION MATRIX\n"
          ]
        },
        {
          "data": {
            "image/png": "[encoded data removed]",
            "text/plain": [
              "<Figure size 432x288 with 2 Axes>"
            ]
          },
          "metadata": {
            "needs_background": "light"
          },
          "output_type": "display_data"
        }
      ],
      "source": [
        "print('\\nCLASSIFICATION REPORT\\n')\n",
        "print(classification_report(svc.predict(testX), testY,\n",
        "                            target_names =['Bad','Good']))\n",
        "print('\\nCONFUSION MATRIX')\n",
        "confusion_matrix = metrics.confusion_matrix(svc.predict(testX), testY)\n",
        "cm_display = metrics.ConfusionMatrixDisplay(confusion_matrix = confusion_matrix, display_labels = [False, True])\n",
        "cm_display.plot()\n",
        "plt.show()"
      ]
    },
    {
      "cell_type": "code",
      "execution_count": 130,
      "metadata": {},
      "outputs": [
        {
          "data": {
            "image/png": "[encoded data removed]",
            "text/plain": [
              "<Figure size 432x288 with 1 Axes>"
            ]
          },
          "metadata": {
            "needs_background": "light"
          },
          "output_type": "display_data"
        }
      ],
      "source": [
        "from sklearn.metrics import roc_curve, auc\n",
        "# Generate false positive rate, true positive rate, and thresholds\n",
        "fpr, tpr, thresholds = roc_curve(testY,svc.predict(testX))\n",
        "# Compute AUC\n",
        "roc_auc = auc(fpr, tpr)\n",
        "# Plot ROC curve\n",
        "plt.title('Receiver Operating Characteristic')\n",
        "plt.plot(fpr, tpr, 'b', label = 'AUC = %0.2f' % roc_auc)\n",
        "plt.legend(loc = 'lower right')\n",
        "plt.plot([0, 1], [0, 1],'r--')\n",
        "plt.xlim([0, 1])\n",
        "plt.ylim([0, 1])\n",
        "plt.ylabel('True Positive Rate')\n",
        "plt.xlabel('False Positive Rate')\n",
        "plt.show()"
      ]
    },
    {
      "attachments": {},
      "cell_type": "markdown",
      "metadata": {},
      "source": [
        "XGBOOST\n"
      ]
    },
    {
      "cell_type": "code",
      "execution_count": 42,
      "metadata": {},
      "outputs": [],
      "source": [
        "import xgboost as xgb\n",
        "model = xgb.XGBRegressor(\n",
        "    n_estimators=50,\n",
        "    reg_lambda=1,\n",
        "    gamma=0,\n",
        "    max_depth=3\n",
        ")"
      ]
    },
    {
      "cell_type": "code",
      "execution_count": 43,
      "metadata": {},
      "outputs": [
        {
          "data": {
            "text/plain": [
              "XGBRegressor(base_score=0.5, booster='gbtree', callbacks=None,\n",
              "             colsample_bylevel=1, colsample_bynode=1, colsample_bytree=1,\n",
              "             early_stopping_rounds=None, enable_categorical=False,\n",
              "             eval_metric=None, gamma=0, gpu_id=-1, grow_policy='depthwise',\n",
              "             importance_type=None, interaction_constraints='',\n",
              "             learning_rate=0.300000012, max_bin=256, max_cat_to_onehot=4,\n",
              "             max_delta_step=0, max_depth=3, max_leaves=0, min_child_weight=1,\n",
              "             missing=nan, monotone_constraints='()', n_estimators=50, n_jobs=0,\n",
              "             num_parallel_tree=1, predictor='auto', random_state=0, reg_alpha=0,\n",
              "             reg_lambda=1, ...)"
            ]
          },
          "execution_count": 43,
          "metadata": {},
          "output_type": "execute_result"
        }
      ],
      "source": [
        "model.fit(trainX,trainY)"
      ]
    },
    {
      "cell_type": "code",
      "execution_count": 44,
      "metadata": {},
      "outputs": [
        {
          "data": {
            "text/plain": [
              "0.5042508040102345"
            ]
          },
          "execution_count": 44,
          "metadata": {},
          "output_type": "execute_result"
        }
      ],
      "source": [
        "model.score(testX,testY)"
      ]
    },
    {
      "cell_type": "code",
      "execution_count": 62,
      "metadata": {},
      "outputs": [
        {
          "name": "stdout",
          "output_type": "stream",
          "text": [
            "[0. 1. 1. ... 1. 1. 1.]\n"
          ]
        }
      ],
      "source": [
        "predicted=model.predict(testX)\n",
        "for x in range(len(predicted)):\n",
        "        if(predicted[x]<0.5):\n",
        "                predicted[x]=0;\n",
        "        else:\n",
        "               predicted[x]=1\n",
        "        \n",
        "print(predicted)"
      ]
    },
    {
      "cell_type": "code",
      "execution_count": 64,
      "metadata": {},
      "outputs": [
        {
          "name": "stdout",
          "output_type": "stream",
          "text": [
            "\n",
            "CLASSIFICATION REPORT\n",
            "\n",
            "              precision    recall  f1-score   support\n",
            "\n",
            "         Bad       0.55      0.95      0.69      3632\n",
            "        Good       0.99      0.84      0.91     18342\n",
            "\n",
            "    accuracy                           0.86     21974\n",
            "   macro avg       0.77      0.90      0.80     21974\n",
            "weighted avg       0.92      0.86      0.87     21974\n",
            "\n",
            "\n",
            "CONFUSION MATRIX\n"
          ]
        },
        {
          "data": {
            "image/png": "[encoded data removed]",
            "text/plain": [
              "<Figure size 432x288 with 2 Axes>"
            ]
          },
          "metadata": {
            "needs_background": "light"
          },
          "output_type": "display_data"
        }
      ],
      "source": [
        "print('\\nCLASSIFICATION REPORT\\n')\n",
        "print(classification_report(predicted, testY,\n",
        "                            target_names =['Bad','Good']))\n",
        "print('\\nCONFUSION MATRIX')\n",
        "confusion_matrix = metrics.confusion_matrix(predicted, testY)\n",
        "cm_display = metrics.ConfusionMatrixDisplay(confusion_matrix = confusion_matrix, display_labels = [False, True])\n",
        "cm_display.plot()\n",
        "plt.show()\n"
      ]
    },
    {
      "cell_type": "code",
      "execution_count": 65,
      "metadata": {},
      "outputs": [
        {
          "data": {
            "image/png": "[encoded data removed]",
            "text/plain": [
              "<Figure size 432x288 with 1 Axes>"
            ]
          },
          "metadata": {
            "needs_background": "light"
          },
          "output_type": "display_data"
        }
      ],
      "source": [
        "from sklearn.metrics import roc_curve, auc\n",
        "# Generate false positive rate, true positive rate, and thresholds\n",
        "fpr, tpr, thresholds = roc_curve(testY,predicted)\n",
        "# Compute AUC\n",
        "roc_auc = auc(fpr, tpr)\n",
        "# Plot ROC curve\n",
        "plt.title('Receiver Operating Characteristic')\n",
        "plt.plot(fpr, tpr, 'b', label = 'AUC = %0.2f' % roc_auc)\n",
        "plt.legend(loc = 'lower right')\n",
        "plt.plot([0, 1], [0, 1],'r--')\n",
        "plt.xlim([0, 1])\n",
        "plt.ylim([0, 1])\n",
        "plt.ylabel('True Positive Rate')\n",
        "plt.xlabel('False Positive Rate')\n",
        "plt.show()"
      ]
    },
    {
      "attachments": {},
      "cell_type": "markdown",
      "metadata": {},
      "source": [
        "LIGHT GBM"
      ]
    },
    {
      "cell_type": "code",
      "execution_count": 67,
      "metadata": {},
      "outputs": [],
      "source": [
        "import lightgbm as lgb\n",
        "from lightgbm import LGBMClassifier\n"
      ]
    },
    {
      "cell_type": "code",
      "execution_count": 69,
      "metadata": {},
      "outputs": [
        {
          "data": {
            "text/plain": [
              "LGBMClassifier()"
            ]
          },
          "execution_count": 69,
          "metadata": {},
          "output_type": "execute_result"
        }
      ],
      "source": [
        "model = LGBMClassifier()\n",
        "model.fit(trainX.astype('float32'),trainY.astype('float32')) "
      ]
    },
    {
      "cell_type": "code",
      "execution_count": 70,
      "metadata": {},
      "outputs": [
        {
          "name": "stdout",
          "output_type": "stream",
          "text": [
            "[0. 0. 0. ... 1. 1. 1.]\n",
            "0.9106671520888323\n"
          ]
        }
      ],
      "source": [
        "# Predicting the Target variable\n",
        "pred = model.predict(testX.astype('float32'))\n",
        "print(pred)\n",
        "accuracy = model.score(testX.astype('float32'),testY.astype('float32'))\n",
        "print(accuracy)"
      ]
    },
    {
      "cell_type": "code",
      "execution_count": 71,
      "metadata": {},
      "outputs": [
        {
          "name": "stdout",
          "output_type": "stream",
          "text": [
            "\n",
            "CLASSIFICATION REPORT\n",
            "\n",
            "              precision    recall  f1-score   support\n",
            "\n",
            "         Bad       0.76      0.91      0.83      5295\n",
            "        Good       0.97      0.91      0.94     16679\n",
            "\n",
            "    accuracy                           0.91     21974\n",
            "   macro avg       0.87      0.91      0.89     21974\n",
            "weighted avg       0.92      0.91      0.91     21974\n",
            "\n",
            "\n",
            "CONFUSION MATRIX\n"
          ]
        },
        {
          "data": {
            "image/png": "[encoded data removed]",
            "text/plain": [
              "<Figure size 432x288 with 2 Axes>"
            ]
          },
          "metadata": {
            "needs_background": "light"
          },
          "output_type": "display_data"
        }
      ],
      "source": [
        "print('\\nCLASSIFICATION REPORT\\n')\n",
        "print(classification_report(model.predict(testX.astype('float32')), testY.astype('float32'),\n",
        "                            target_names =['Bad','Good']))\n",
        "print('\\nCONFUSION MATRIX')\n",
        "confusion_matrix = metrics.confusion_matrix(model.predict(testX.astype('float32')), testY.astype('float32'))\n",
        "cm_display = metrics.ConfusionMatrixDisplay(confusion_matrix = confusion_matrix, display_labels = [False, True])\n",
        "cm_display.plot()\n",
        "plt.show()"
      ]
    },
    {
      "cell_type": "code",
      "execution_count": 72,
      "metadata": {},
      "outputs": [
        {
          "data": {
            "image/png": "[encoded data removed]",
            "text/plain": [
              "<Figure size 432x288 with 1 Axes>"
            ]
          },
          "metadata": {
            "needs_background": "light"
          },
          "output_type": "display_data"
        }
      ],
      "source": [
        "from sklearn.metrics import roc_curve, auc\n",
        "# Generate false positive rate, true positive rate, and thresholds\n",
        "fpr, tpr, thresholds = roc_curve(testY.astype('float32'),model.predict(testX.astype('float32')))\n",
        "# Compute AUC\n",
        "roc_auc = auc(fpr, tpr)\n",
        "# Plot ROC curve\n",
        "plt.title('Receiver Operating Characteristic')\n",
        "plt.plot(fpr, tpr, 'b', label = 'AUC = %0.2f' % roc_auc)\n",
        "plt.legend(loc = 'lower right')\n",
        "plt.plot([0, 1], [0, 1],'r--')\n",
        "plt.xlim([0, 1])\n",
        "plt.ylim([0, 1])\n",
        "plt.ylabel('True Positive Rate')\n",
        "plt.xlabel('False Positive Rate')\n",
        "plt.show()"
      ]
    },
    {
      "attachments": {},
      "cell_type": "markdown",
      "metadata": {},
      "source": [
        "CATBOOST"
      ]
    },
    {
      "cell_type": "code",
      "execution_count": 31,
      "metadata": {},
      "outputs": [
        {
          "name": "stdout",
          "output_type": "stream",
          "text": [
            "Accuracy: 0.894193137344134\n"
          ]
        }
      ],
      "source": [
        "from catboost import CatBoostClassifier\n",
        "# Initialize the CatBoost classifier\n",
        "clf = CatBoostClassifier(iterations=100, learning_rate=0.1, depth=6, loss_function='Logloss')\n",
        "# Fit the classifier on the training data\n",
        "clf.fit(trainX,trainY, verbose=False)\n",
        "# Make predictions on the test set\n",
        "y_pred = clf.predict(testX)\n",
        "# Evaluate the accuracy of the predictions\n",
        "accuracy = accuracy_score(testY, y_pred)\n",
        "print('Accuracy:', accuracy)"
      ]
    },
    {
      "cell_type": "code",
      "execution_count": 32,
      "metadata": {},
      "outputs": [
        {
          "name": "stdout",
          "output_type": "stream",
          "text": [
            "\n",
            "CLASSIFICATION REPORT\n",
            "\n",
            "              precision    recall  f1-score   support\n",
            "\n",
            "         Bad       0.69      0.92      0.79      4663\n",
            "        Good       0.98      0.89      0.93     17311\n",
            "\n",
            "    accuracy                           0.89     21974\n",
            "   macro avg       0.83      0.90      0.86     21974\n",
            "weighted avg       0.92      0.89      0.90     21974\n",
            "\n",
            "\n",
            "CONFUSION MATRIX\n"
          ]
        },
        {
          "data": {
            "image/png": "[encoded data removed]",
            "text/plain": [
              "<Figure size 432x288 with 2 Axes>"
            ]
          },
          "metadata": {
            "needs_background": "light"
          },
          "output_type": "display_data"
        }
      ],
      "source": [
        "print('\\nCLASSIFICATION REPORT\\n')\n",
        "print(classification_report(y_pred, testY,\n",
        "                            target_names =['Bad','Good']))\n",
        "print('\\nCONFUSION MATRIX')\n",
        "confusion_matrix = metrics.confusion_matrix(y_pred, testY)\n",
        "cm_display = metrics.ConfusionMatrixDisplay(confusion_matrix = confusion_matrix, display_labels = [False, True])\n",
        "cm_display.plot()\n",
        "plt.show()\n"
      ]
    },
    {
      "cell_type": "code",
      "execution_count": 34,
      "metadata": {},
      "outputs": [
        {
          "data": {
            "image/png": "[encoded data removed]",
            "text/plain": [
              "<Figure size 432x288 with 1 Axes>"
            ]
          },
          "metadata": {
            "needs_background": "light"
          },
          "output_type": "display_data"
        }
      ],
      "source": [
        "from sklearn.metrics import roc_curve, auc\n",
        "# Generate false positive rate, true positive rate, and thresholds\n",
        "fpr, tpr, thresholds = roc_curve(testY,y_pred)\n",
        "# Compute AUC\n",
        "roc_auc = auc(fpr, tpr)\n",
        "# Plot ROC curve\n",
        "plt.title('Receiver Operating Characteristic')\n",
        "plt.plot(fpr, tpr, 'b', label = 'AUC = %0.2f' % roc_auc)\n",
        "plt.legend(loc = 'lower right')\n",
        "plt.plot([0, 1], [0, 1],'r--')\n",
        "plt.xlim([0, 1])\n",
        "plt.ylim([0, 1])\n",
        "plt.ylabel('True Positive Rate')\n",
        "plt.xlabel('False Positive Rate')\n",
        "plt.show()"
      ]
    },
    {
      "attachments": {},
      "cell_type": "markdown",
      "metadata": {},
      "source": [
        "ADA Boost"
      ]
    },
    {
      "cell_type": "code",
      "execution_count": 35,
      "metadata": {},
      "outputs": [
        {
          "name": "stdout",
          "output_type": "stream",
          "text": [
            "Accuracy: 0.8785837808318923\n"
          ]
        }
      ],
      "source": [
        "from sklearn.ensemble import AdaBoostClassifier\n",
        "# Create an AdaBoost classifier with decision trees as base estimators\n",
        "clf = AdaBoostClassifier(base_estimator=DecisionTreeClassifier())\n",
        "# Train the classifier\n",
        "clf.fit(trainX, trainY)\n",
        "# Make predictions on the test set\n",
        "y_pred = clf.predict(testX)\n",
        "# Evaluate the classifier\n",
        "accuracy = accuracy_score(testY,y_pred)\n",
        "print('Accuracy:', accuracy)\n"
      ]
    },
    {
      "cell_type": "code",
      "execution_count": 36,
      "metadata": {},
      "outputs": [
        {
          "name": "stdout",
          "output_type": "stream",
          "text": [
            "\n",
            "CLASSIFICATION REPORT\n",
            "\n",
            "              precision    recall  f1-score   support\n",
            "\n",
            "         Bad       0.84      0.76      0.80      6928\n",
            "        Good       0.89      0.93      0.91     15046\n",
            "\n",
            "    accuracy                           0.88     21974\n",
            "   macro avg       0.87      0.85      0.86     21974\n",
            "weighted avg       0.88      0.88      0.88     21974\n",
            "\n",
            "\n",
            "CONFUSION MATRIX\n"
          ]
        },
        {
          "data": {
            "image/png": "[encoded data removed]",
            "text/plain": [
              "<Figure size 432x288 with 2 Axes>"
            ]
          },
          "metadata": {
            "needs_background": "light"
          },
          "output_type": "display_data"
        }
      ],
      "source": [
        "print('\\nCLASSIFICATION REPORT\\n')\n",
        "print(classification_report(y_pred, testY,\n",
        "                            target_names =['Bad','Good']))\n",
        "print('\\nCONFUSION MATRIX')\n",
        "confusion_matrix = metrics.confusion_matrix(y_pred, testY)\n",
        "cm_display = metrics.ConfusionMatrixDisplay(confusion_matrix = confusion_matrix, display_labels = [False, True])\n",
        "cm_display.plot()\n",
        "plt.show()\n"
      ]
    },
    {
      "cell_type": "code",
      "execution_count": 37,
      "metadata": {},
      "outputs": [
        {
          "data": {
            "image/png": "[encoded data removed]",
            "text/plain": [
              "<Figure size 432x288 with 1 Axes>"
            ]
          },
          "metadata": {
            "needs_background": "light"
          },
          "output_type": "display_data"
        }
      ],
      "source": [
        "from sklearn.metrics import roc_curve, auc\n",
        "# Generate false positive rate, true positive rate, and thresholds\n",
        "fpr, tpr, thresholds = roc_curve(testY,y_pred)\n",
        "# Compute AUC\n",
        "roc_auc = auc(fpr, tpr)\n",
        "# Plot ROC curve\n",
        "plt.title('Receiver Operating Characteristic')\n",
        "plt.plot(fpr, tpr, 'b', label = 'AUC = %0.2f' % roc_auc)\n",
        "plt.legend(loc = 'lower right')\n",
        "plt.plot([0, 1], [0, 1],'r--')\n",
        "plt.xlim([0, 1])\n",
        "plt.ylim([0, 1])\n",
        "plt.ylabel('True Positive Rate')\n",
        "plt.xlabel('False Positive Rate')\n",
        "plt.show()"
      ]
    },
    {
      "attachments": {},
      "cell_type": "markdown",
      "metadata": {},
      "source": [
        "OUR OWN CLASSIFICATION ALGORITHM BASED ON EXISITNG ALGORITMGS\n"
      ]
    },
    {
      "cell_type": "code",
      "execution_count": 27,
      "metadata": {},
      "outputs": [],
      "source": [
        "class MyClassifier(BaseEstimator, ClassifierMixin):\n",
        "    def __init__(self):\n",
        "        self.dt_clf = DecisionTreeClassifier()\n",
        "        self.svm_clf = SVC()\n",
        "\n",
        "    def fit(self, X, y):\n",
        "        # Check that X and y have correct shape\n",
        "        X, y = check_X_y(X, y)\n",
        "\n",
        "        # Train the decision tree classifier\n",
        "        self.dt_clf.fit(X, y)\n",
        "\n",
        "        # Generate new features using the decision tree classifier\n",
        "        X_new = self.dt_clf.apply(X)\n",
        "        X_new = np.reshape(X_new, (-1, 1))\n",
        "\n",
        "        # Train the SVM on the new feature set\n",
        "        self.svm_clf.fit(X_new, y)\n",
        "\n",
        "        return self"
      ]
    },
    {
      "cell_type": "code",
      "execution_count": null,
      "metadata": {},
      "outputs": [],
      "source": [
        "def predict(self, X):\n",
        "        # Check is fit had been called\n",
        "        check_is_fitted(self)\n",
        "\n",
        "        # Input validation\n",
        "        X = check_array(X)\n",
        "\n",
        "        # Generate new features using the decision tree classifier\n",
        "        X_new = self.dt_clf.apply(X)\n",
        "        X_new = np.reshape(X_new, (-1, 1))\n",
        "\n",
        "        # Make predictions using the SVM\n",
        "        y_pred = self.svm_clf.predict(X_new)\n",
        "\n",
        "        return y_pred"
      ]
    },
    {
      "cell_type": "code",
      "execution_count": 24,
      "metadata": {},
      "outputs": [
        {
          "name": "stdout",
          "output_type": "stream",
          "text": [
            "Accuracy: 0.8160098297988532\n"
          ]
        }
      ],
      "source": [
        "clf = MyClassifier()\n",
        "clf.fit(trainX.toarray(),trainY)\n",
        "y_pred = clf.predict(testX)\n",
        "accuracy = accuracy_score(testY, y_pred)\n",
        "print('Accuracy:', accuracy)"
      ]
    },
    {
      "cell_type": "code",
      "execution_count": 25,
      "metadata": {},
      "outputs": [
        {
          "name": "stdout",
          "output_type": "stream",
          "text": [
            "\n",
            "CLASSIFICATION REPORT\n",
            "\n",
            "              precision    recall  f1-score   support\n",
            "\n",
            "         Bad       0.50      0.78      0.61      4019\n",
            "        Good       0.94      0.83      0.88     17955\n",
            "\n",
            "    accuracy                           0.82     21974\n",
            "   macro avg       0.72      0.80      0.74     21974\n",
            "weighted avg       0.86      0.82      0.83     21974\n",
            "\n",
            "\n",
            "CONFUSION MATRIX\n"
          ]
        },
        {
          "data": {
            "image/png": "[encoded data removed]",
            "text/plain": [
              "<Figure size 432x288 with 2 Axes>"
            ]
          },
          "metadata": {
            "needs_background": "light"
          },
          "output_type": "display_data"
        }
      ],
      "source": [
        "print('\\nCLASSIFICATION REPORT\\n')\n",
        "print(classification_report(y_pred, testY,\n",
        "                            target_names =['Bad','Good']))\n",
        "print('\\nCONFUSION MATRIX')\n",
        "confusion_matrix = metrics.confusion_matrix(y_pred, testY)\n",
        "cm_display = metrics.ConfusionMatrixDisplay(confusion_matrix = confusion_matrix, display_labels = [False, True])\n",
        "cm_display.plot()\n",
        "plt.show()\n"
      ]
    },
    {
      "cell_type": "code",
      "execution_count": 26,
      "metadata": {},
      "outputs": [
        {
          "data": {
            "image/png": "[encoded data removed]",
            "text/plain": [
              "<Figure size 432x288 with 1 Axes>"
            ]
          },
          "metadata": {
            "needs_background": "light"
          },
          "output_type": "display_data"
        }
      ],
      "source": [
        "from sklearn.metrics import roc_curve, auc\n",
        "# Generate false positive rate, true positive rate, and thresholds\n",
        "fpr, tpr, thresholds = roc_curve(testY,y_pred)\n",
        "# Compute AUC\n",
        "roc_auc = auc(fpr, tpr)\n",
        "# Plot ROC curve\n",
        "plt.title('Receiver Operating Characteristic')\n",
        "plt.plot(fpr, tpr, 'b', label = 'AUC = %0.2f' % roc_auc)\n",
        "plt.legend(loc = 'lower right')\n",
        "plt.plot([0, 1], [0, 1],'r--')\n",
        "plt.xlim([0, 1])\n",
        "plt.ylim([0, 1])\n",
        "plt.ylabel('True Positive Rate')\n",
        "plt.xlabel('False Positive Rate')\n",
        "plt.show()"
      ]
    },
    {
      "attachments": {},
      "cell_type": "markdown",
      "metadata": {},
      "source": [
        "By using the decision tree to generate new features that capture non-linear relationships between features and target variable, we can enhance the SVM's ability to accurately classify instances. The decision tree acts as a feature extractor that transforms the input data into a new feature space, which can then be used by the SVM to learn a decision boundary that separates the classes. This way, we can benefit from the strengths of both algorithms and improve the overall accuracy of the model."
      ]
    }
  ],
  "metadata": {
    "colab": {
      "history_visible": true,
      "provenance": []
    },
    "kernelspec": {
      "display_name": "Python 3",
      "language": "python",
      "name": "python3"
    },
    "language_info": {
      "codemirror_mode": {
        "name": "ipython",
        "version": 3
      },
      "file_extension": ".py",
      "mimetype": "text/x-python",
      "name": "python",
      "nbconvert_exporter": "python",
      "pygments_lexer": "ipython3",
      "version": "3.7.6"
    },
    "vscode": {
      "interpreter": {
        "hash": "b47ffbe1cab92b2a7a0ce3a5a78202013bc920f969d0dd638a9ce62434e55070"
      }
    }
  },
  "nbformat": 4,
  "nbformat_minor": 0
}
